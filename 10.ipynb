{
 "cells": [
  {
   "cell_type": "code",
   "execution_count": 1,
   "metadata": {},
   "outputs": [
    {
     "name": "stdout",
     "output_type": "stream",
     "text": [
      "[1, 2, 3, 70, 4, 5, 6, 71, 78, 79]\n",
      "[4, 5, 6]\n"
     ]
    }
   ],
   "source": [
    "#Write a program to take two lists and print if they have at least one common member,also print the\n",
    "#list of common numbers if more than two\n",
    "\n",
    "l1=[21,12,23,221,12,32,4,5,6,7]\n",
    "l2=[1,2,3,70,4,5,6,71,78,79]\n",
    "listofcommon=[]\n",
    "n=len(l1)\n",
    "c=0\n",
    "for i in range(n):\n",
    "    if l1[i] in l2:\n",
    "        c=1\n",
    "        listofcommon.append(l1[i])\n",
    "if c==1:\n",
    "        print(l2)\n",
    "else:\n",
    "        print(\"There  is no common element\")\n",
    "print(listofcommon)"
   ]
  },
  {
   "cell_type": "code",
   "execution_count": 2,
   "metadata": {},
   "outputs": [
    {
     "name": "stdout",
     "output_type": "stream",
     "text": [
      "[(10, 20, 30), (10, 30, 20), (20, 10, 30), (20, 30, 10), (30, 10, 20), (30, 20, 10)]\n"
     ]
    }
   ],
   "source": [
    "# compute all permutations in a list\n",
    "\n",
    "import itertools\n",
    "print(list(itertools.permutations([10,20,30])))"
   ]
  },
  {
   "cell_type": "code",
   "execution_count": 3,
   "metadata": {},
   "outputs": [
    {
     "name": "stdout",
     "output_type": "stream",
     "text": [
      "{'a': 12, 'b': 13, 'c': 14, 'd': 15}\n"
     ]
    }
   ],
   "source": [
    "# write a program to remove duplicates from Dictionary.\n",
    "data={'a':12,'b':13,'c':14,'d':15,'a':12}\n",
    "result={}\n",
    "for key,value in data.items():\n",
    "    if value not in result.values():\n",
    "        result[key]=value\n",
    "print(result)"
   ]
  },
  {
   "cell_type": "code",
   "execution_count": 4,
   "metadata": {},
   "outputs": [
    {
     "name": "stdout",
     "output_type": "stream",
     "text": [
      "{'a': 1300, 'b': 3400, 'd': 400}\n"
     ]
    }
   ],
   "source": [
    "# write a program to combine two dictionary adding values for common keys\n",
    "dict1 = {'a': 1000, 'b': 3200, 'c':1300}\n",
    "dict2 = {'a': 300, 'b': 200, 'd':400}\n",
    "for key in dict2: \n",
    "    if key in dict1: \n",
    "        dict2[key] = dict2[key] + dict1[key] \n",
    "    else: \n",
    "        pass\n",
    "          \n",
    "print(dict2) "
   ]
  },
  {
   "cell_type": "code",
   "execution_count": 5,
   "metadata": {},
   "outputs": [
    {
     "name": "stdout",
     "output_type": "stream",
     "text": [
      "Counter({'b': 3400, 'a': 1300, 'c': 1300, 'd': 400})\n"
     ]
    }
   ],
   "source": [
    "#Alternative way to add two dictionaries using Counter package.\n",
    "from collections import Counter\n",
    "dict1 = {'a': 1000, 'b': 3200, 'c':1300}\n",
    "dict2 = {'a': 300, 'b': 200, 'd':400}\n",
    "dict3= Counter(dict1) + Counter(dict2)\n",
    "print(dict3)"
   ]
  },
  {
   "cell_type": "code",
   "execution_count": 6,
   "metadata": {},
   "outputs": [
    {
     "name": "stdout",
     "output_type": "stream",
     "text": [
      "[12, 13, 14, 15]\n"
     ]
    }
   ],
   "source": [
    "# write a program to print all unique values from a dictionary in a list\n",
    "\n",
    "data={'a':12,'b':13,'c':14,'d':15,'e':12,'f':13}\n",
    "L=[]\n",
    "for key,values in data.items():\n",
    "    if values not in L:\n",
    "        L.append(data[key])\n",
    "print(L)"
   ]
  },
  {
   "cell_type": "code",
   "execution_count": null,
   "metadata": {},
   "outputs": [],
   "source": []
  }
 ],
 "metadata": {
  "kernelspec": {
   "display_name": "Python 3",
   "language": "python",
   "name": "python3"
  },
  "language_info": {
   "codemirror_mode": {
    "name": "ipython",
    "version": 3
   },
   "file_extension": ".py",
   "mimetype": "text/x-python",
   "name": "python",
   "nbconvert_exporter": "python",
   "pygments_lexer": "ipython3",
   "version": "3.7.6"
  }
 },
 "nbformat": 4,
 "nbformat_minor": 4
}

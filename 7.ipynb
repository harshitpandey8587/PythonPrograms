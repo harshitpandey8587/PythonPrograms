{
 "cells": [
  {
   "cell_type": "code",
   "execution_count": 6,
   "metadata": {},
   "outputs": [
    {
     "name": "stdout",
     "output_type": "stream",
     "text": [
      "['10', '20']\n",
      "['10', '20']\n",
      "['7', '10']\n",
      "['10', '20']\n",
      "['7', '10']\n",
      "[['10', '20'], ['5'], ['10', '20'], ['7', '10'], ['10', '20'], ['7', '10']]\n"
     ]
    }
   ],
   "source": []
  },
  {
   "cell_type": "code",
   "execution_count": 7,
   "metadata": {},
   "outputs": [
    {
     "name": "stdout",
     "output_type": "stream",
     "text": [
      "['10', '20']\n",
      "['10', '20']\n",
      "['7', '10']\n",
      "['10', '20']\n",
      "['7', '10']\n",
      "[['10', '20'], ['5'], ['10', '20'], ['7', '10'], ['10', '20'], ['7', '10']]\n"
     ]
    }
   ],
   "source": []
  },
  {
   "cell_type": "code",
   "execution_count": 17,
   "metadata": {},
   "outputs": [
    {
     "name": "stdout",
     "output_type": "stream",
     "text": [
      "['10', '20', '5', '7']\n"
     ]
    }
   ],
   "source": [
    "#Write a program to remove duplicate elements from a list.\n",
    "\n",
    "def Dup(ListItems):\n",
    "    newset=set(ListItems)\n",
    "    newlist=[]\n",
    "    for i in newset:\n",
    "        newlist.append(i)\n",
    "        \n",
    "    print(newlist)\n",
    "    \n",
    "ListItems=['10','20','5','10','20','7','10','10','20']\n",
    "Dup(ListItems)"
   ]
  },
  {
   "cell_type": "code",
   "execution_count": 20,
   "metadata": {},
   "outputs": [
    {
     "name": "stdout",
     "output_type": "stream",
     "text": [
      "[['5'], ['10', '20'], ['7', '10']]\n"
     ]
    }
   ],
   "source": [
    "#Write a program to remove duplicates from list of list.\n",
    "def DupList(ListItems):\n",
    "    \n",
    "    for i in ListItems:\n",
    "        if ListItems.count(i)>1:\n",
    "            ListItems.remove(i)\n",
    "    print(ListItems)\n",
    "\n",
    "ListItems=[['10', '20'], ['5'], ['10', '20'], ['7', '10'], ['10', '20'], ['7', '10']]\n",
    "DupList(ListItems)\n",
    "\n",
    "    "
   ]
  },
  {
   "cell_type": "code",
   "execution_count": null,
   "metadata": {},
   "outputs": [],
   "source": []
  }
 ],
 "metadata": {
  "kernelspec": {
   "display_name": "Python 3",
   "language": "python",
   "name": "python3"
  },
  "language_info": {
   "codemirror_mode": {
    "name": "ipython",
    "version": 3
   },
   "file_extension": ".py",
   "mimetype": "text/x-python",
   "name": "python",
   "nbconvert_exporter": "python",
   "pygments_lexer": "ipython3",
   "version": "3.7.6"
  }
 },
 "nbformat": 4,
 "nbformat_minor": 4
}

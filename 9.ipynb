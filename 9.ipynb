{
 "cells": [
  {
   "cell_type": "code",
   "execution_count": 1,
   "metadata": {},
   "outputs": [
    {
     "name": "stdout",
     "output_type": "stream",
     "text": [
      "[90, 52, 63, 103, 202, 506]\n"
     ]
    }
   ],
   "source": [
    "#Write a program to add something in a list without using append function\n",
    "\n",
    "x=[103,202,506]\n",
    "y=[90,52,63]\n",
    "x[:0]=y\n",
    "print(x)"
   ]
  },
  {
   "cell_type": "code",
   "execution_count": 2,
   "metadata": {},
   "outputs": [
    {
     "name": "stdout",
     "output_type": "stream",
     "text": [
      "[103, 202, 506, 'A', 'd', 'd', ' ', 't', 'h', 'i', 's', ' ', 't', 'o', ' ', 'y', 'o', 'u', 'r', ' ', 'l', 'i', 's', 't']\n"
     ]
    }
   ],
   "source": [
    "#Write a program to add something in a list without using append function\n",
    "x=[103,202,506]\n",
    "y=[90,52,63]\n",
    "x.extend(\"Add this to your list\")\n",
    "print(x)"
   ]
  },
  {
   "cell_type": "code",
   "execution_count": 3,
   "metadata": {},
   "outputs": [
    {
     "name": "stdout",
     "output_type": "stream",
     "text": [
      "[103, 202, 506, 'A', 'd', 'd', ' ', 't', 'h', 'i', 's', ' ', 't', 'o', ' ', 'y', 'o', 'u', 'r', ' ', 'l', 'i', 's', 't']\n"
     ]
    }
   ],
   "source": [
    "#Write a program to add something in a list without using append function\n",
    "x=[103,202,506]\n",
    "y=[90,52,63]\n",
    "x.extend(\"Add this to your list\")\n",
    "print(x)"
   ]
  },
  {
   "cell_type": "code",
   "execution_count": 4,
   "metadata": {},
   "outputs": [
    {
     "name": "stdout",
     "output_type": "stream",
     "text": [
      "[103, 202, 506, 90, 52, 63]\n"
     ]
    }
   ],
   "source": [
    "#Write a program to add something in a list without using append function\n",
    "x=[103,202,506]\n",
    "y=[90,52,63]\n",
    "x.extend(y)\n",
    "print(x)"
   ]
  },
  {
   "cell_type": "code",
   "execution_count": 5,
   "metadata": {},
   "outputs": [
    {
     "name": "stdout",
     "output_type": "stream",
     "text": [
      "[103, 202, 506, 90, 52, 63]\n"
     ]
    }
   ],
   "source": [
    "#Write a program to add something in a list without using append function\n",
    "x=[103,202,506]\n",
    "y=[90,52,63]\n",
    "x[3:]=y\n",
    "print(x)"
   ]
  },
  {
   "cell_type": "code",
   "execution_count": 6,
   "metadata": {},
   "outputs": [
    {
     "name": "stdout",
     "output_type": "stream",
     "text": [
      "38\n",
      "[5, 6, 27]\n"
     ]
    }
   ],
   "source": [
    "#Write a Python program to find the list in a list of lists whose sum of elements is th\n",
    "#e highest\n",
    "newsum=[]\n",
    "def sumList(List):\n",
    "    s=0\n",
    "    for x in List:\n",
    "       s+=x\n",
    "    newsum.append(s)\n",
    "    return s\n",
    "\n",
    "l=[[2,3,4],[5,6,27],[8,9,20],[1,1,3]]\n",
    "for i in l:\n",
    "    sumList(i)\n",
    "\n",
    "print(max(newsum))\n",
    "print(l[newsum.index(max(newsum))])"
   ]
  },
  {
   "cell_type": "code",
   "execution_count": 7,
   "metadata": {},
   "outputs": [
    {
     "name": "stdout",
     "output_type": "stream",
     "text": [
      "[10, 11, 12]\n"
     ]
    }
   ],
   "source": [
    "num = [[1,2,3], [4,5,6], [10,11,12], [7,8,9]]\n",
    "print(max(num, key=sum))"
   ]
  },
  {
   "cell_type": "code",
   "execution_count": 8,
   "metadata": {},
   "outputs": [
    {
     "name": "stdout",
     "output_type": "stream",
     "text": [
      "c\n"
     ]
    }
   ],
   "source": [
    "#Write a Python program to access dictionary key’s element by index.\n",
    "\n",
    "s={'a':12,'b':13,'c':15,'d':200}\n",
    "index=2\n",
    "print(list(s)[index])"
   ]
  },
  {
   "cell_type": "code",
   "execution_count": 9,
   "metadata": {},
   "outputs": [
    {
     "name": "stdout",
     "output_type": "stream",
     "text": [
      "(1, 'red')\n",
      "(2, 'while')\n",
      "(3, 'black')\n"
     ]
    }
   ],
   "source": [
    "#Write a Python program to iterate over two lists simultaneously.\n",
    "num = [1, 2, 3]\n",
    "color = ['red', 'while', 'black']\n",
    "for i in zip(num, color):\n",
    "    print(i)"
   ]
  },
  {
   "cell_type": "code",
   "execution_count": 10,
   "metadata": {},
   "outputs": [
    {
     "name": "stdout",
     "output_type": "stream",
     "text": [
      "['Harshit2', 'Harshit3.5', 'HarshitTrue', 'Harshithello ', 'Harshithola', 'Harshitbonjour']\n"
     ]
    }
   ],
   "source": [
    "#write a program to inser a string at the begining of every elements in a list\n",
    "l=[2,3.5,True,\"hello \",\"hola\",\"bonjour\"]\n",
    "string=\"Harshit\"\n",
    "for i in range(len(l)):\n",
    "    l[i]=string+str(l[i])\n",
    "print(l)"
   ]
  },
  {
   "cell_type": "code",
   "execution_count": null,
   "metadata": {},
   "outputs": [],
   "source": []
  }
 ],
 "metadata": {
  "kernelspec": {
   "display_name": "Python 3",
   "language": "python",
   "name": "python3"
  },
  "language_info": {
   "codemirror_mode": {
    "name": "ipython",
    "version": 3
   },
   "file_extension": ".py",
   "mimetype": "text/x-python",
   "name": "python",
   "nbconvert_exporter": "python",
   "pygments_lexer": "ipython3",
   "version": "3.7.6"
  }
 },
 "nbformat": 4,
 "nbformat_minor": 4
}

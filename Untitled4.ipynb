{
 "cells": [
  {
   "cell_type": "code",
   "execution_count": 2,
   "metadata": {},
   "outputs": [
    {
     "name": "stdout",
     "output_type": "stream",
     "text": [
      "39\n"
     ]
    }
   ],
   "source": [
    "#Write a Python program to sum all the items in a list.\n",
    "\n",
    "def sum_list(ListItems):\n",
    "    sum=0\n",
    "    for x in ListItems:\n",
    "        sum +=x\n",
    "    print(sum)\n",
    "    \n",
    "ListItems=[2,5,4,8,6,4,10]\n",
    "sum_list(ListItems)"
   ]
  },
  {
   "cell_type": "code",
   "execution_count": 11,
   "metadata": {},
   "outputs": [
    {
     "name": "stdout",
     "output_type": "stream",
     "text": [
      "Total Number of strings = 5\n"
     ]
    }
   ],
   "source": [
    "# Write a Python program to count the number of strings where the string length is 2 or\n",
    "# more and the first and last character are same from a given list of strings.\n",
    "\n",
    "def Count_Str(ListStr):\n",
    "    count=0\n",
    "    for word in ListStr:\n",
    "        if len(word)>1 and word[0]==word[-1]:\n",
    "            count +=1\n",
    "    print(\"Total Number of strings =\",count)\n",
    "    \n",
    "ListStr=['xyx','xzzyz','abcdsa','15321','135553','3213213','NamaN','Karak','ze','a']\n",
    "Count_Str(ListStr)    "
   ]
  },
  {
   "cell_type": "code",
   "execution_count": 17,
   "metadata": {},
   "outputs": [
    {
     "name": "stdout",
     "output_type": "stream",
     "text": [
      "Total number of duplicates 2.0\n",
      "['10', '10', '40', '40']\n"
     ]
    }
   ],
   "source": [
    "#Write a program to find the duplicates in a list.\n",
    "\n",
    "def count_dup(ListItems):\n",
    "    count=0\n",
    "    newList=[]\n",
    "    for word in ListItems:\n",
    "        if ListItems.count(word)>1:\n",
    "            count +=1\n",
    "            newList.append(word)\n",
    "    print(\"Total number of duplicates\",count/2)\n",
    "    print(newList)\n",
    "ListItems=['10','10','20','30','40','40']\n",
    "count_dup(ListItems)"
   ]
  },
  {
   "cell_type": "code",
   "execution_count": null,
   "metadata": {},
   "outputs": [],
   "source": []
  }
 ],
 "metadata": {
  "kernelspec": {
   "display_name": "Python 3",
   "language": "python",
   "name": "python3"
  },
  "language_info": {
   "codemirror_mode": {
    "name": "ipython",
    "version": 3
   },
   "file_extension": ".py",
   "mimetype": "text/x-python",
   "name": "python",
   "nbconvert_exporter": "python",
   "pygments_lexer": "ipython3",
   "version": "3.7.6"
  }
 },
 "nbformat": 4,
 "nbformat_minor": 4
}
